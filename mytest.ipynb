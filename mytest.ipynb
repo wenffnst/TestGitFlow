{
 "cells": [
  {
   "cell_type": "markdown",
   "metadata": {
    "lc_cell_meme": {
     "current": "f1f616d4-e89a-11e8-a789-0242ac110002",
     "next": "f1f61d14-e89a-11e8-a789-0242ac110002",
     "previous": null
    }
   },
   "source": [
    "for test!"
   ]
  },
  {
   "cell_type": "markdown",
   "metadata": {
    "lc_cell_meme": {
     "current": "f1f61d14-e89a-11e8-a789-0242ac110002",
     "next": "f1f62192-e89a-11e8-a789-0242ac110002",
     "previous": "f1f616d4-e89a-11e8-a789-0242ac110002"
    },
    "run_through_control": {
     "execute_status": "error"
    }
   },
   "source": [
    "<img src=\"img00/girl.png\" style=\"width:300px;height:300px;\">"
   ]
  },
  {
   "cell_type": "code",
   "execution_count": null,
   "metadata": {
    "lc_cell_meme": {
     "current": "f1f62192-e89a-11e8-a789-0242ac110002",
     "next": null,
     "previous": "f1f61d14-e89a-11e8-a789-0242ac110002"
    }
   },
   "outputs": [],
   "source": []
  }
 ],
 "metadata": {
  "kernelspec": {
   "display_name": "Python 3",
   "language": "python",
   "name": "python3"
  },
  "language_info": {
   "codemirror_mode": {
    "name": "ipython",
    "version": 3
   },
   "file_extension": ".py",
   "mimetype": "text/x-python",
   "name": "python",
   "nbconvert_exporter": "python",
   "pygments_lexer": "ipython3",
   "version": "3.6.6"
  },
  "lc_notebook_meme": {
   "current": "f1f60ec8-e89a-11e8-a789-0242ac110002",
   "lc_server_signature": {
    "current": {
     "notebook_dir": "/notebooks",
     "notebook_path": "/",
     "server_url": "http://localhost:8088/",
     "signature_id": "f3a83910-b4e4-11e8-9d0a-0242ac110002"
    },
    "history": []
   }
  },
  "toc": {
   "base_numbering": 1,
   "nav_menu": {},
   "number_sections": true,
   "sideBar": true,
   "skip_h1_title": false,
   "title_cell": "Table of Contents",
   "title_sidebar": "Contents",
   "toc_cell": false,
   "toc_position": {},
   "toc_section_display": true,
   "toc_window_display": false
  }
 },
 "nbformat": 4,
 "nbformat_minor": 2
}
